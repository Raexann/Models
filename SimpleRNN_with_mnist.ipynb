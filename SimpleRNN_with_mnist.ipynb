{
  "nbformat": 4,
  "nbformat_minor": 0,
  "metadata": {
    "colab": {
      "provenance": [],
      "authorship_tag": "ABX9TyMci1I0A6nWcg3jPqXNZkth",
      "include_colab_link": true
    },
    "kernelspec": {
      "name": "python3",
      "display_name": "Python 3"
    },
    "language_info": {
      "name": "python"
    }
  },
  "cells": [
    {
      "cell_type": "markdown",
      "metadata": {
        "id": "view-in-github",
        "colab_type": "text"
      },
      "source": [
        "<a href=\"https://colab.research.google.com/github/Raexann/Models/blob/main/SimpleRNN_with_mnist.ipynb\" target=\"_parent\"><img src=\"https://colab.research.google.com/assets/colab-badge.svg\" alt=\"Open In Colab\"/></a>"
      ]
    },
    {
      "cell_type": "code",
      "execution_count": null,
      "metadata": {
        "id": "TLivd4bnJZxU"
      },
      "outputs": [],
      "source": [
        "import numpy as np\n",
        "from keras.models import Sequential\n",
        "from keras.layers import Dense, Activation, SimpleRNN\n",
        "from keras.utils import to_categorical, plot_model\n",
        "from keras.datasets import mnist"
      ]
    },
    {
      "cell_type": "code",
      "source": [
        "#load the dataset\n",
        "(x_train, y_train), (x_test, y_test) =mnist.load_data()"
      ],
      "metadata": {
        "colab": {
          "base_uri": "https://localhost:8080/"
        },
        "id": "MaHLY4K8HDNR",
        "outputId": "206a22d2-8257-4722-d16e-5481176498f9"
      },
      "execution_count": null,
      "outputs": [
        {
          "output_type": "stream",
          "name": "stdout",
          "text": [
            "Downloading data from https://storage.googleapis.com/tensorflow/tf-keras-datasets/mnist.npz\n",
            "11490434/11490434 [==============================] - 0s 0us/step\n"
          ]
        }
      ]
    },
    {
      "cell_type": "code",
      "source": [
        "#compute no. of labels\n",
        "num_labels=len(np.unique(y_train))"
      ],
      "metadata": {
        "id": "tejD4RreHLdy"
      },
      "execution_count": null,
      "outputs": []
    },
    {
      "cell_type": "code",
      "source": [
        "print(num_labels)"
      ],
      "metadata": {
        "colab": {
          "base_uri": "https://localhost:8080/"
        },
        "id": "LQVqzU3QHZpB",
        "outputId": "bc5895b1-dcaf-4a7b-c9a2-3447a870c21d"
      },
      "execution_count": null,
      "outputs": [
        {
          "output_type": "stream",
          "name": "stdout",
          "text": [
            "10\n"
          ]
        }
      ]
    },
    {
      "cell_type": "code",
      "source": [
        "#convert to one-hot vector\n",
        "y_train=to_categorical(y_train)\n",
        "y_test=to_categorical(y_test)"
      ],
      "metadata": {
        "id": "msV5BVZTHb3Q"
      },
      "execution_count": null,
      "outputs": []
    },
    {
      "cell_type": "code",
      "source": [
        "print(y_train)"
      ],
      "metadata": {
        "colab": {
          "base_uri": "https://localhost:8080/"
        },
        "id": "zafJ_os-HrsC",
        "outputId": "d6305123-9063-493d-bc4c-2821fa984d3c"
      },
      "execution_count": null,
      "outputs": [
        {
          "output_type": "stream",
          "name": "stdout",
          "text": [
            "[[0. 0. 0. ... 0. 0. 0.]\n",
            " [1. 0. 0. ... 0. 0. 0.]\n",
            " [0. 0. 0. ... 0. 0. 0.]\n",
            " ...\n",
            " [0. 0. 0. ... 0. 0. 0.]\n",
            " [0. 0. 0. ... 0. 0. 0.]\n",
            " [0. 0. 0. ... 0. 1. 0.]]\n"
          ]
        }
      ]
    },
    {
      "cell_type": "code",
      "source": [
        "x_train.shape"
      ],
      "metadata": {
        "colab": {
          "base_uri": "https://localhost:8080/"
        },
        "id": "aq9l7ZIWHtDV",
        "outputId": "79b14188-4257-4b9c-b630-d4ad930e8419"
      },
      "execution_count": null,
      "outputs": [
        {
          "output_type": "execute_result",
          "data": {
            "text/plain": [
              "(60000, 28, 28)"
            ]
          },
          "metadata": {},
          "execution_count": 9
        }
      ]
    },
    {
      "cell_type": "code",
      "source": [
        "#resize and normalize\n",
        "image_size=x_train.shape[1]\n",
        "x_train=np.reshape(x_train, [-1, image_size, image_size])\n",
        "print(x_train.shape)\n",
        "\n",
        "x_test=np.reshape(x_test, [-1, image_size, image_size])\n",
        "print(x_test.shape)\n",
        "\n",
        "x_train=x_train.astype('float32')/255\n",
        "x_test=x_test.astype('float32')/255"
      ],
      "metadata": {
        "colab": {
          "base_uri": "https://localhost:8080/"
        },
        "id": "pp5Ig0xlJBsz",
        "outputId": "92f2c2c3-9760-4ac0-c9c6-36f42a0e5be8"
      },
      "execution_count": null,
      "outputs": [
        {
          "output_type": "stream",
          "name": "stdout",
          "text": [
            "(60000, 28, 28)\n",
            "(10000, 28, 28)\n"
          ]
        }
      ]
    },
    {
      "cell_type": "code",
      "source": [
        "input_shape=(image_size, image_size)\n",
        "batch_size=128\n",
        "units=28\n",
        "dropout=0.2"
      ],
      "metadata": {
        "id": "F-L4pGYyJ-x6"
      },
      "execution_count": null,
      "outputs": []
    },
    {
      "cell_type": "code",
      "source": [
        "#building RNN model\n",
        "model=Sequential()\n",
        "model.add(SimpleRNN(units=units,\n",
        "                    input_shape=input_shape))\n",
        "model.add(Dense(num_labels))\n",
        "model.add(Activation('softmax'))\n",
        "model.summary()"
      ],
      "metadata": {
        "colab": {
          "base_uri": "https://localhost:8080/"
        },
        "id": "6fYiB7q_KVVf",
        "outputId": "f5ffbcc5-0117-4556-e460-1935d173a24e"
      },
      "execution_count": null,
      "outputs": [
        {
          "output_type": "stream",
          "name": "stdout",
          "text": [
            "Model: \"sequential\"\n",
            "_________________________________________________________________\n",
            " Layer (type)                Output Shape              Param #   \n",
            "=================================================================\n",
            " simple_rnn_2 (SimpleRNN)    (None, 28)                1596      \n",
            "                                                                 \n",
            " dense (Dense)               (None, 10)                290       \n",
            "                                                                 \n",
            " activation (Activation)     (None, 10)                0         \n",
            "                                                                 \n",
            "=================================================================\n",
            "Total params: 1,886\n",
            "Trainable params: 1,886\n",
            "Non-trainable params: 0\n",
            "_________________________________________________________________\n"
          ]
        }
      ]
    },
    {
      "cell_type": "code",
      "source": [
        "plot_model(model, to_file='rnn-mnist.png', show_shapes=True)"
      ],
      "metadata": {
        "colab": {
          "base_uri": "https://localhost:8080/",
          "height": 422
        },
        "id": "UkmK0Q3qK-s6",
        "outputId": "5fc7bbca-9399-4eea-9a26-65c2f77a38a1"
      },
      "execution_count": null,
      "outputs": [
        {
          "output_type": "execute_result",
          "data": {
            "image/png": "[encoded data removed]",
            "text/plain": [
              "<IPython.core.display.Image object>"
            ]
          },
          "metadata": {},
          "execution_count": 17
        }
      ]
    },
    {
      "cell_type": "code",
      "source": [
        "#compiling the model\n",
        "model.compile(loss='categorical_crossentropy',\n",
        "              optimizer='sgd',\n",
        "              metrics=['accuracy'])"
      ],
      "metadata": {
        "id": "A45qvHbPLRpT"
      },
      "execution_count": null,
      "outputs": []
    },
    {
      "cell_type": "code",
      "source": [
        "model.fit(x_train, y_train, epochs=20, batch_size=batch_size)"
      ],
      "metadata": {
        "colab": {
          "base_uri": "https://localhost:8080/"
        },
        "id": "pbL8PfUEMAcT",
        "outputId": "2f190724-67d1-44ca-ea33-90dede501398"
      },
      "execution_count": null,
      "outputs": [
        {
          "output_type": "stream",
          "name": "stdout",
          "text": [
            "Epoch 1/20\n",
            "469/469 [==============================] - 5s 8ms/step - loss: 1.8604 - accuracy: 0.3449\n",
            "Epoch 2/20\n",
            "469/469 [==============================] - 4s 9ms/step - loss: 1.2735 - accuracy: 0.5630\n",
            "Epoch 3/20\n",
            "469/469 [==============================] - 4s 9ms/step - loss: 1.0422 - accuracy: 0.6495\n",
            "Epoch 4/20\n",
            "469/469 [==============================] - 4s 8ms/step - loss: 0.9086 - accuracy: 0.6991\n",
            "Epoch 5/20\n",
            "469/469 [==============================] - 4s 9ms/step - loss: 0.8233 - accuracy: 0.7300\n",
            "Epoch 6/20\n",
            "469/469 [==============================] - 5s 10ms/step - loss: 0.7443 - accuracy: 0.7627\n",
            "Epoch 7/20\n",
            "469/469 [==============================] - 4s 8ms/step - loss: 0.6756 - accuracy: 0.7915\n",
            "Epoch 8/20\n",
            "469/469 [==============================] - 5s 10ms/step - loss: 0.6052 - accuracy: 0.8199\n",
            "Epoch 9/20\n",
            "469/469 [==============================] - 7s 14ms/step - loss: 0.5494 - accuracy: 0.8373\n",
            "Epoch 10/20\n",
            "469/469 [==============================] - 7s 14ms/step - loss: 0.5103 - accuracy: 0.8500\n",
            "Epoch 11/20\n",
            "469/469 [==============================] - 7s 16ms/step - loss: 0.4734 - accuracy: 0.8624\n",
            "Epoch 12/20\n",
            "469/469 [==============================] - 8s 17ms/step - loss: 0.4477 - accuracy: 0.8709\n",
            "Epoch 13/20\n",
            "469/469 [==============================] - 7s 14ms/step - loss: 0.4210 - accuracy: 0.8795\n",
            "Epoch 14/20\n",
            "469/469 [==============================] - 4s 9ms/step - loss: 0.3997 - accuracy: 0.8873\n",
            "Epoch 15/20\n",
            "469/469 [==============================] - 6s 14ms/step - loss: 0.3809 - accuracy: 0.8924\n",
            "Epoch 16/20\n",
            "469/469 [==============================] - 5s 11ms/step - loss: 0.3669 - accuracy: 0.8966\n",
            "Epoch 17/20\n",
            "469/469 [==============================] - 7s 15ms/step - loss: 0.3485 - accuracy: 0.9019\n",
            "Epoch 18/20\n",
            "469/469 [==============================] - 5s 10ms/step - loss: 0.3411 - accuracy: 0.9033\n",
            "Epoch 19/20\n",
            "469/469 [==============================] - 7s 14ms/step - loss: 0.3334 - accuracy: 0.9058\n",
            "Epoch 20/20\n",
            "469/469 [==============================] - 5s 11ms/step - loss: 0.3226 - accuracy: 0.9104\n"
          ]
        },
        {
          "output_type": "execute_result",
          "data": {
            "text/plain": [
              "<keras.callbacks.History at 0x7f52ce7f75b0>"
            ]
          },
          "metadata": {},
          "execution_count": 20
        }
      ]
    },
    {
      "cell_type": "code",
      "source": [
        "loss, acc=model.evaluate(x_test, y_test, batch_size=batch_size)\n",
        "print(\"\\nTest accuracy: %.1f%%\" % (100.0*acc))"
      ],
      "metadata": {
        "colab": {
          "base_uri": "https://localhost:8080/"
        },
        "id": "LHzNfo8VNfkA",
        "outputId": "0674ceab-dfdc-4389-8ea0-3fa733d216f4"
      },
      "execution_count": null,
      "outputs": [
        {
          "output_type": "stream",
          "name": "stdout",
          "text": [
            "79/79 [==============================] - 1s 5ms/step - loss: 0.3234 - accuracy: 0.9129\n",
            "\n",
            "Test accuracy: 91.3%\n"
          ]
        }
      ]
    },
    {
      "cell_type": "code",
      "source": [],
      "metadata": {
        "id": "LycjALlWN8Rq"
      },
      "execution_count": null,
      "outputs": []
    }
  ]
}